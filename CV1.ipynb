{
  "nbformat": 4,
  "nbformat_minor": 0,
  "metadata": {
    "colab": {
      "provenance": [],
      "authorship_tag": "ABX9TyMVxGEtX8rPgOA70J82fUwB",
      "include_colab_link": true
    },
    "kernelspec": {
      "name": "python3",
      "display_name": "Python 3"
    },
    "language_info": {
      "name": "python"
    }
  },
  "cells": [
    {
      "cell_type": "markdown",
      "metadata": {
        "id": "view-in-github",
        "colab_type": "text"
      },
      "source": [
        "<a href=\"https://colab.research.google.com/github/PecaJosef/MPA-MLF-Pecka/blob/main/CV1.ipynb\" target=\"_parent\"><img src=\"https://colab.research.google.com/assets/colab-badge.svg\" alt=\"Open In Colab\"/></a>"
      ]
    },
    {
      "cell_type": "code",
      "source": [
        "for i in range (1,3):\n",
        "  for j in range (1,6):\n",
        "    if i == 1:\n",
        "      print('X'*j)\n",
        "    else:\n",
        "      print('X'*(5-j))\n",
        "\n",
        "import re\n",
        "\n",
        "input_str = \"n45as29@#8ss6\"\n",
        "numbers = re.findall(r'\\d', input_str)\n",
        "print(\"Sum of all integers in string:\", sum(map(int,numbers)))\n",
        "\n",
        "input = 325942\n",
        "\n",
        "bin_out = \"\"\n",
        "\n",
        "if input < 2**8: bits = 8\n",
        "elif input < 2**16: bits = 16\n",
        "elif input < 2**32: bits = 32\n",
        "\n",
        "input_number = input\n",
        "for bit in range (0,bits):\n",
        "  if input_number % 2 == 1:\n",
        "    bin_out = \"1\" + bin_out\n",
        "    input_number -= 1\n",
        "  else:\n",
        "    bin_out = \"0\" + bin_out\n",
        "  input_number = input_number / 2\n",
        "print(\"\\nBinary representation of number\",input,\"is:\",\"0b\"+bin_out)"
      ],
      "metadata": {
        "colab": {
          "base_uri": "https://localhost:8080/"
        },
        "id": "7Ne2JdO95blD",
        "outputId": "090bb4f9-ba47-4eda-d55f-9611f9ce7326"
      },
      "execution_count": 1,
      "outputs": [
        {
          "output_type": "stream",
          "name": "stdout",
          "text": [
            "X\n",
            "XX\n",
            "XXX\n",
            "XXXX\n",
            "XXXXX\n",
            "XXXX\n",
            "XXX\n",
            "XX\n",
            "X\n",
            "\n",
            "Sum of all integers in string: 34\n",
            "\n",
            "Binary representation of number 325942 is: 0b00000000000001001111100100110110\n"
          ]
        }
      ]
    }
  ]
}