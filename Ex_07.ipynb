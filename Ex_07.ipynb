{
  "cells": [
    {
      "cell_type": "markdown",
      "metadata": {
        "id": "view-in-github",
        "colab_type": "text"
      },
      "source": [
        "<a href=\"https://colab.research.google.com/github/PecaJosef/MPA-MLF-Pecka/blob/main/Ex_07.ipynb\" target=\"_parent\"><img src=\"https://colab.research.google.com/assets/colab-badge.svg\" alt=\"Open In Colab\"/></a>"
      ]
    },
    {
      "cell_type": "markdown",
      "id": "9457fdc4-1690-4c41-8e88-1597fc2a687c",
      "metadata": {
        "id": "9457fdc4-1690-4c41-8e88-1597fc2a687c"
      },
      "source": [
        " # MKA-MLF, Lab_07 Convolutional Neural Networks"
      ]
    },
    {
      "cell_type": "markdown",
      "id": "94e81ae9-825c-4132-97e6-7d19b1dcfd82",
      "metadata": {
        "id": "94e81ae9-825c-4132-97e6-7d19b1dcfd82"
      },
      "source": [
        "## Exercise - XOR Gate"
      ]
    },
    {
      "cell_type": "code",
      "execution_count": null,
      "id": "1fca4d43-ab0e-44d0-9279-9c38d757ab50",
      "metadata": {
        "id": "1fca4d43-ab0e-44d0-9279-9c38d757ab50"
      },
      "outputs": [],
      "source": []
    },
    {
      "cell_type": "markdown",
      "id": "ffa6be62-ed89-4801-b297-f1a1211ce297",
      "metadata": {
        "id": "ffa6be62-ed89-4801-b297-f1a1211ce297"
      },
      "source": [
        "## Exercise - Hand-written digits recognition"
      ]
    },
    {
      "cell_type": "markdown",
      "id": "89808395-7ffe-4df1-91e5-f31ce090b932",
      "metadata": {
        "id": "89808395-7ffe-4df1-91e5-f31ce090b932"
      },
      "source": [
        "Create CNN which will process and recognize handwritten digits. For this purposes please use the MNIST database (Modified National Institute of Standards and Technology database) which is a large database of handwritten digits that is commonly used for training various image processing systems.\n",
        "\n",
        "The datasample of the MNIST datasets can be see in the following picture"
      ]
    },
    {
      "cell_type": "markdown",
      "id": "0c65f181-d971-4f0e-ba63-17c242a65d6c",
      "metadata": {
        "id": "0c65f181-d971-4f0e-ba63-17c242a65d6c"
      },
      "source": [
        "### Task description"
      ]
    },
    {
      "cell_type": "markdown",
      "id": "1b6b04cf-eeec-404a-824b-f9aa1d3b7d7a",
      "metadata": {
        "id": "1b6b04cf-eeec-404a-824b-f9aa1d3b7d7a"
      },
      "source": [
        "In the terms of machine learning, the Hand-written digits recognition can be threated as a multi-class classification problem. This is very important knowledge to structure our model in the correct way (Especially the output-layer, including the number of neurons and activations function and the overall loss function and classification metrics)"
      ]
    },
    {
      "cell_type": "markdown",
      "id": "b724de14-3931-4983-b443-7e0106d190dc",
      "metadata": {
        "id": "b724de14-3931-4983-b443-7e0106d190dc"
      },
      "source": [
        "### 0. Import libraries"
      ]
    },
    {
      "cell_type": "markdown",
      "id": "1ffd9b11-f9c1-4b3f-8dd1-cbb18487a075",
      "metadata": {
        "id": "1ffd9b11-f9c1-4b3f-8dd1-cbb18487a075"
      },
      "source": [
        "Import the all necessary libraries, you can get inspired by the previous exercises. You can improst the libraries gradually, when do you progressing with the task"
      ]
    },
    {
      "cell_type": "code",
      "execution_count": null,
      "id": "1f692dd4-0262-4e7a-b029-69d8280f14d2",
      "metadata": {
        "id": "1f692dd4-0262-4e7a-b029-69d8280f14d2"
      },
      "outputs": [],
      "source": [
        "from tensorflow import keras\n",
        "from keras.models import Sequential\n",
        "from keras.datasets import mnist\n",
        "import numpy as np\n",
        "import matplotlib\n",
        "import matplotlib.pyplot as plt\n",
        "###################################\n",
        "# Write your own code here #\n",
        "from tensorflow.keras.utils import to_categorical\n",
        "from tensorflow.keras.layers import Conv2D, MaxPooling2D, Flatten, Dense\n",
        "from tensorflow.keras.optimizers import Adam, Adamax\n",
        "from sklearn.metrics import confusion_matrix\n",
        "from sklearn.metrics import ConfusionMatrixDisplay\n",
        "\n",
        "\n",
        "###################################\n",
        "font = {'weight' : 'bold',\n",
        "        'size'   : 12}\n",
        "\n",
        "matplotlib.rc('font', **font)"
      ]
    },
    {
      "cell_type": "markdown",
      "id": "9c4af957-fee1-4806-9d68-797d74c332df",
      "metadata": {
        "id": "9c4af957-fee1-4806-9d68-797d74c332df"
      },
      "source": [
        "### 1. Dataset"
      ]
    },
    {
      "cell_type": "markdown",
      "id": "33cf2443-c2ed-4aaa-9b10-fa598a4fb6cb",
      "metadata": {
        "id": "33cf2443-c2ed-4aaa-9b10-fa598a4fb6cb"
      },
      "source": [
        "#### 1.1 Load Dataset"
      ]
    },
    {
      "cell_type": "markdown",
      "id": "dd860d81-ab4d-48d2-a071-e0e8aec8000f",
      "metadata": {
        "id": "dd860d81-ab4d-48d2-a071-e0e8aec8000f"
      },
      "source": [
        "You can load the dataset using the following code"
      ]
    },
    {
      "cell_type": "code",
      "execution_count": null,
      "id": "1b6f52dc-788b-4481-95f2-c4de31cae037",
      "metadata": {
        "colab": {
          "base_uri": "https://localhost:8080/"
        },
        "id": "1b6f52dc-788b-4481-95f2-c4de31cae037",
        "outputId": "9da42fbd-a30a-46fc-feb8-d2065bf8d75b"
      },
      "outputs": [
        {
          "output_type": "stream",
          "name": "stdout",
          "text": [
            "(60000, 28, 28)\n",
            "(10000, 28, 28)\n"
          ]
        }
      ],
      "source": [
        "(X_train, y_train), (X_test, y_test) = mnist.load_data()\n",
        "print(X_train.shape)\n",
        "print(X_test.shape)\n"
      ]
    },
    {
      "cell_type": "markdown",
      "id": "853727ee-5836-4345-84dd-b0135b33e6d3",
      "metadata": {
        "id": "853727ee-5836-4345-84dd-b0135b33e6d3"
      },
      "source": [
        "#### 1.2 Dataset examination"
      ]
    },
    {
      "cell_type": "markdown",
      "id": "93e9f48e-3192-494a-9b0f-e2f66a7c286e",
      "metadata": {
        "id": "93e9f48e-3192-494a-9b0f-e2f66a7c286e"
      },
      "source": [
        "Using the following code, display random images,"
      ]
    },
    {
      "cell_type": "code",
      "execution_count": null,
      "id": "522d7c5e-f50b-46d0-b79d-799d40ff2f1e",
      "metadata": {
        "id": "522d7c5e-f50b-46d0-b79d-799d40ff2f1e"
      },
      "outputs": [],
      "source": [
        "def display_random_images(x_data: np.array, y_data: np.array, count: int = 10) -> None:\n",
        "  index = np.array(len(x_data))\n",
        "  selected_ind = np.random.choice(index, count)\n",
        "\n",
        "  selected_img = x_data[selected_ind]\n",
        "  selected_labels = y_data[selected_ind]\n",
        "  concat_img = np.concatenate(selected_img, axis=1)\n",
        "\n",
        "  plt.figure(figsize=(20,10))\n",
        "  plt.imshow(concat_img, cmap=\"gray\")\n",
        "\n",
        "  for id_label, label in enumerate(selected_labels):\n",
        "    plt.text(14 + 28*id_label, 28*(5/4), label)\n",
        "  plt.axis('off')\n",
        "  plt.show()"
      ]
    },
    {
      "cell_type": "code",
      "execution_count": null,
      "id": "452ea9c5-8438-4b10-8a0e-ef0e418ba5a0",
      "metadata": {
        "colab": {
          "base_uri": "https://localhost:8080/",
          "height": 237
        },
        "id": "452ea9c5-8438-4b10-8a0e-ef0e418ba5a0",
        "outputId": "880927f4-4318-4939-c57c-fca082363a52"
      },
      "outputs": [
        {
          "output_type": "display_data",
          "data": {
            "text/plain": [
              "<Figure size 2000x1000 with 1 Axes>"
            ],
            "image/png": "[encoded data removed]"
          },
          "metadata": {}
        }
      ],
      "source": [
        "display_random_images(X_train, y_train)"
      ]
    },
    {
      "cell_type": "markdown",
      "id": "6c0e3651-3921-4485-bdae-3731afcf03a2",
      "metadata": {
        "id": "6c0e3651-3921-4485-bdae-3731afcf03a2"
      },
      "source": [
        "Examine the dataset. Answer for yourself the following questions:\n",
        "\n",
        "- What kind of data occurs in our dataset? Greyscale 28x28 matrix\n",
        "- How many data samples do we have in train and test datasets? - 60k and 10k\n",
        "- How many colour channels does the input variable have? - One\n",
        "- What is the size of the input images? - 28x28px\n",
        "- What is the necessary preprocessing of the input data X? Turn them from greyscale to black and white\n",
        "- How many classes do we have in target varoable? - 10\n",
        "- What is the necessary preprocessing of target variable y? - One-hot encoding"
      ]
    },
    {
      "cell_type": "markdown",
      "id": "08273dd4-05d0-4cd8-b989-eca8a4d1328a",
      "metadata": {
        "id": "08273dd4-05d0-4cd8-b989-eca8a4d1328a"
      },
      "source": [
        "#### 1.3 Dataset preprocessing"
      ]
    },
    {
      "cell_type": "markdown",
      "id": "2c16ee55-312f-4ee5-86cd-e09426e16e82",
      "metadata": {
        "id": "2c16ee55-312f-4ee5-86cd-e09426e16e82"
      },
      "source": [
        "Perform the necessary data preprocessing. The best way to preprocess the data would be one hot encoding for the target variable and normalization for the input variable (using min-max or z-score normalization)"
      ]
    },
    {
      "cell_type": "code",
      "execution_count": null,
      "id": "e07697fb-0feb-4df1-8ed2-b7b20f0c015f",
      "metadata": {
        "colab": {
          "base_uri": "https://localhost:8080/",
          "height": 237
        },
        "id": "e07697fb-0feb-4df1-8ed2-b7b20f0c015f",
        "outputId": "295b973d-0cdf-45d6-dd2d-e1d78d6e039b"
      },
      "outputs": [
        {
          "output_type": "display_data",
          "data": {
            "text/plain": [
              "<Figure size 2000x1000 with 1 Axes>"
            ],
            "image/png": "[encoded data removed]"
          },
          "metadata": {}
        }
      ],
      "source": [
        "###################################\n",
        "# Write your own code here #\n",
        "\n",
        "#X-train preprocessing\n",
        "X_train_norm = X_train.astype('float')/255.0\n",
        "X_test_norm = X_test.astype('float')/255.0\n",
        "\n",
        "X_train = X_train_norm.reshape(-1, 28, 28, 1)\n",
        "X_test = X_test_norm.reshape(-1, 28, 28, 1)\n",
        "\n",
        "\n",
        "\n",
        "display_random_images(X_train, y_train)\n",
        "\n",
        "#One-hot encoding\n",
        "y_train_enc = to_categorical(y_train, num_classes=10)\n",
        "#print(y_train_encoded.shape)\n",
        "y_test_enc = to_categorical(y_test, num_classes=10)\n",
        "#print(y_test_encoded.shape)\n",
        "\n",
        "###################################"
      ]
    },
    {
      "cell_type": "markdown",
      "id": "d20d5fef-cbca-48a2-844f-c9638f0b6bf9",
      "metadata": {
        "id": "d20d5fef-cbca-48a2-844f-c9638f0b6bf9"
      },
      "source": [
        "### 2. Build the model"
      ]
    },
    {
      "cell_type": "markdown",
      "id": "ea554fcf-7acd-4453-b18d-b4982f6a10eb",
      "metadata": {
        "id": "ea554fcf-7acd-4453-b18d-b4982f6a10eb"
      },
      "source": [
        "In this section, your task will be to define the model architecture. The intial structure can be defined as follows:\n",
        "\n",
        "Input_layer -> Convolutional_layer(kernel_size=(3,3), no_channels=32) -> Maxpooling_layer(kernel_size=(2, 2)) -> Flatten_layer -> Dense_layer (num_classes)\n",
        "    \n",
        "    \n"
      ]
    },
    {
      "cell_type": "markdown",
      "id": "0ffd3896-079e-4758-9579-387f33af9691",
      "metadata": {
        "id": "0ffd3896-079e-4758-9579-387f33af9691"
      },
      "source": [
        "#### 2.1 Define the model structure"
      ]
    },
    {
      "cell_type": "code",
      "execution_count": null,
      "id": "77238bdf-ad74-4246-920d-a1dc28564306",
      "metadata": {
        "id": "77238bdf-ad74-4246-920d-a1dc28564306",
        "colab": {
          "base_uri": "https://localhost:8080/"
        },
        "outputId": "3b17646b-f63c-4449-f232-04ed48329a25"
      },
      "outputs": [
        {
          "output_type": "stream",
          "name": "stderr",
          "text": [
            "/usr/local/lib/python3.11/dist-packages/keras/src/layers/convolutional/base_conv.py:107: UserWarning: Do not pass an `input_shape`/`input_dim` argument to a layer. When using Sequential models, prefer using an `Input(shape)` object as the first layer in the model instead.\n",
            "  super().__init__(activity_regularizer=activity_regularizer, **kwargs)\n"
          ]
        }
      ],
      "source": [
        "model = Sequential()\n",
        "###################################\n",
        "# Write your own code here #\n",
        "model.add(Conv2D(200, kernel_size=(3, 3), activation='relu', input_shape=(28, 28, 1)))\n",
        "model.add(MaxPooling2D((3, 3)))\n",
        "model.add(Flatten())\n",
        "model.add(Dense(128, activation='relu'))\n",
        "model.add(Dense(10, activation='softmax'))\n",
        "\n",
        "###################################\n"
      ]
    },
    {
      "cell_type": "markdown",
      "id": "fde4b3eb-90e1-4724-89df-0db1872560d4",
      "metadata": {
        "id": "fde4b3eb-90e1-4724-89df-0db1872560d4"
      },
      "source": [
        "#### 2.2 Compile the model"
      ]
    },
    {
      "cell_type": "markdown",
      "id": "a467f8fb-8bfc-4cd4-9eee-820c1b9b5a52",
      "metadata": {
        "id": "a467f8fb-8bfc-4cd4-9eee-820c1b9b5a52"
      },
      "source": [
        "Build the model, use the relevant metrics, optimizer and loss function. While choosing the metrics and loss function, consider fact that we are are trying to solve the multiclass classification problem"
      ]
    },
    {
      "cell_type": "code",
      "execution_count": null,
      "id": "e6d1a924-9e2f-4ca2-b4d6-4724f51ae065",
      "metadata": {
        "colab": {
          "base_uri": "https://localhost:8080/",
          "height": 306
        },
        "id": "e6d1a924-9e2f-4ca2-b4d6-4724f51ae065",
        "outputId": "0fa6172f-1510-44ff-d362-38921803680c"
      },
      "outputs": [
        {
          "output_type": "display_data",
          "data": {
            "text/plain": [
              "\u001b[1mModel: \"sequential_1\"\u001b[0m\n"
            ],
            "text/html": [
              "<pre style=\"white-space:pre;overflow-x:auto;line-height:normal;font-family:Menlo,'DejaVu Sans Mono',consolas,'Courier New',monospace\"><span style=\"font-weight: bold\">Model: \"sequential_1\"</span>\n",
              "</pre>\n"
            ]
          },
          "metadata": {}
        },
        {
          "output_type": "display_data",
          "data": {
            "text/plain": [
              "┏━━━━━━━━━━━━━━━━━━━━━━━━━━━━━━━━━━━━━━┳━━━━━━━━━━━━━━━━━━━━━━━━━━━━━┳━━━━━━━━━━━━━━━━━┓\n",
              "┃\u001b[1m \u001b[0m\u001b[1mLayer (type)                        \u001b[0m\u001b[1m \u001b[0m┃\u001b[1m \u001b[0m\u001b[1mOutput Shape               \u001b[0m\u001b[1m \u001b[0m┃\u001b[1m \u001b[0m\u001b[1m        Param #\u001b[0m\u001b[1m \u001b[0m┃\n",
              "┡━━━━━━━━━━━━━━━━━━━━━━━━━━━━━━━━━━━━━━╇━━━━━━━━━━━━━━━━━━━━━━━━━━━━━╇━━━━━━━━━━━━━━━━━┩\n",
              "│ conv2d_1 (\u001b[38;5;33mConv2D\u001b[0m)                    │ (\u001b[38;5;45mNone\u001b[0m, \u001b[38;5;34m26\u001b[0m, \u001b[38;5;34m26\u001b[0m, \u001b[38;5;34m200\u001b[0m)         │           \u001b[38;5;34m2,000\u001b[0m │\n",
              "├──────────────────────────────────────┼─────────────────────────────┼─────────────────┤\n",
              "│ max_pooling2d_1 (\u001b[38;5;33mMaxPooling2D\u001b[0m)       │ (\u001b[38;5;45mNone\u001b[0m, \u001b[38;5;34m8\u001b[0m, \u001b[38;5;34m8\u001b[0m, \u001b[38;5;34m200\u001b[0m)           │               \u001b[38;5;34m0\u001b[0m │\n",
              "├──────────────────────────────────────┼─────────────────────────────┼─────────────────┤\n",
              "│ flatten_1 (\u001b[38;5;33mFlatten\u001b[0m)                  │ (\u001b[38;5;45mNone\u001b[0m, \u001b[38;5;34m12800\u001b[0m)               │               \u001b[38;5;34m0\u001b[0m │\n",
              "├──────────────────────────────────────┼─────────────────────────────┼─────────────────┤\n",
              "│ dense_2 (\u001b[38;5;33mDense\u001b[0m)                      │ (\u001b[38;5;45mNone\u001b[0m, \u001b[38;5;34m128\u001b[0m)                 │       \u001b[38;5;34m1,638,528\u001b[0m │\n",
              "├──────────────────────────────────────┼─────────────────────────────┼─────────────────┤\n",
              "│ dense_3 (\u001b[38;5;33mDense\u001b[0m)                      │ (\u001b[38;5;45mNone\u001b[0m, \u001b[38;5;34m10\u001b[0m)                  │           \u001b[38;5;34m1,290\u001b[0m │\n",
              "└──────────────────────────────────────┴─────────────────────────────┴─────────────────┘\n"
            ],
            "text/html": [
              "<pre style=\"white-space:pre;overflow-x:auto;line-height:normal;font-family:Menlo,'DejaVu Sans Mono',consolas,'Courier New',monospace\">┏━━━━━━━━━━━━━━━━━━━━━━━━━━━━━━━━━━━━━━┳━━━━━━━━━━━━━━━━━━━━━━━━━━━━━┳━━━━━━━━━━━━━━━━━┓\n",
              "┃<span style=\"font-weight: bold\"> Layer (type)                         </span>┃<span style=\"font-weight: bold\"> Output Shape                </span>┃<span style=\"font-weight: bold\">         Param # </span>┃\n",
              "┡━━━━━━━━━━━━━━━━━━━━━━━━━━━━━━━━━━━━━━╇━━━━━━━━━━━━━━━━━━━━━━━━━━━━━╇━━━━━━━━━━━━━━━━━┩\n",
              "│ conv2d_1 (<span style=\"color: #0087ff; text-decoration-color: #0087ff\">Conv2D</span>)                    │ (<span style=\"color: #00d7ff; text-decoration-color: #00d7ff\">None</span>, <span style=\"color: #00af00; text-decoration-color: #00af00\">26</span>, <span style=\"color: #00af00; text-decoration-color: #00af00\">26</span>, <span style=\"color: #00af00; text-decoration-color: #00af00\">200</span>)         │           <span style=\"color: #00af00; text-decoration-color: #00af00\">2,000</span> │\n",
              "├──────────────────────────────────────┼─────────────────────────────┼─────────────────┤\n",
              "│ max_pooling2d_1 (<span style=\"color: #0087ff; text-decoration-color: #0087ff\">MaxPooling2D</span>)       │ (<span style=\"color: #00d7ff; text-decoration-color: #00d7ff\">None</span>, <span style=\"color: #00af00; text-decoration-color: #00af00\">8</span>, <span style=\"color: #00af00; text-decoration-color: #00af00\">8</span>, <span style=\"color: #00af00; text-decoration-color: #00af00\">200</span>)           │               <span style=\"color: #00af00; text-decoration-color: #00af00\">0</span> │\n",
              "├──────────────────────────────────────┼─────────────────────────────┼─────────────────┤\n",
              "│ flatten_1 (<span style=\"color: #0087ff; text-decoration-color: #0087ff\">Flatten</span>)                  │ (<span style=\"color: #00d7ff; text-decoration-color: #00d7ff\">None</span>, <span style=\"color: #00af00; text-decoration-color: #00af00\">12800</span>)               │               <span style=\"color: #00af00; text-decoration-color: #00af00\">0</span> │\n",
              "├──────────────────────────────────────┼─────────────────────────────┼─────────────────┤\n",
              "│ dense_2 (<span style=\"color: #0087ff; text-decoration-color: #0087ff\">Dense</span>)                      │ (<span style=\"color: #00d7ff; text-decoration-color: #00d7ff\">None</span>, <span style=\"color: #00af00; text-decoration-color: #00af00\">128</span>)                 │       <span style=\"color: #00af00; text-decoration-color: #00af00\">1,638,528</span> │\n",
              "├──────────────────────────────────────┼─────────────────────────────┼─────────────────┤\n",
              "│ dense_3 (<span style=\"color: #0087ff; text-decoration-color: #0087ff\">Dense</span>)                      │ (<span style=\"color: #00d7ff; text-decoration-color: #00d7ff\">None</span>, <span style=\"color: #00af00; text-decoration-color: #00af00\">10</span>)                  │           <span style=\"color: #00af00; text-decoration-color: #00af00\">1,290</span> │\n",
              "└──────────────────────────────────────┴─────────────────────────────┴─────────────────┘\n",
              "</pre>\n"
            ]
          },
          "metadata": {}
        },
        {
          "output_type": "display_data",
          "data": {
            "text/plain": [
              "\u001b[1m Total params: \u001b[0m\u001b[38;5;34m1,641,818\u001b[0m (6.26 MB)\n"
            ],
            "text/html": [
              "<pre style=\"white-space:pre;overflow-x:auto;line-height:normal;font-family:Menlo,'DejaVu Sans Mono',consolas,'Courier New',monospace\"><span style=\"font-weight: bold\"> Total params: </span><span style=\"color: #00af00; text-decoration-color: #00af00\">1,641,818</span> (6.26 MB)\n",
              "</pre>\n"
            ]
          },
          "metadata": {}
        },
        {
          "output_type": "display_data",
          "data": {
            "text/plain": [
              "\u001b[1m Trainable params: \u001b[0m\u001b[38;5;34m1,641,818\u001b[0m (6.26 MB)\n"
            ],
            "text/html": [
              "<pre style=\"white-space:pre;overflow-x:auto;line-height:normal;font-family:Menlo,'DejaVu Sans Mono',consolas,'Courier New',monospace\"><span style=\"font-weight: bold\"> Trainable params: </span><span style=\"color: #00af00; text-decoration-color: #00af00\">1,641,818</span> (6.26 MB)\n",
              "</pre>\n"
            ]
          },
          "metadata": {}
        },
        {
          "output_type": "display_data",
          "data": {
            "text/plain": [
              "\u001b[1m Non-trainable params: \u001b[0m\u001b[38;5;34m0\u001b[0m (0.00 B)\n"
            ],
            "text/html": [
              "<pre style=\"white-space:pre;overflow-x:auto;line-height:normal;font-family:Menlo,'DejaVu Sans Mono',consolas,'Courier New',monospace\"><span style=\"font-weight: bold\"> Non-trainable params: </span><span style=\"color: #00af00; text-decoration-color: #00af00\">0</span> (0.00 B)\n",
              "</pre>\n"
            ]
          },
          "metadata": {}
        }
      ],
      "source": [
        "loss = None\n",
        "optimizer = None\n",
        "metrics = None\n",
        "learning_rate = 0.0\n",
        "\n",
        "###################################\n",
        "# Write your own code here #\n",
        "\n",
        "optimizer = Adamax(learning_rate=0.00005)\n",
        "model.compile(loss='categorical_crossentropy', optimizer=optimizer, metrics=['accuracy'])\n",
        "\n",
        "\n",
        "###################################\n",
        "model.summary()"
      ]
    },
    {
      "cell_type": "markdown",
      "id": "f146b70f-2e8c-484f-abfd-6fc4a8b8177b",
      "metadata": {
        "id": "f146b70f-2e8c-484f-abfd-6fc4a8b8177b"
      },
      "source": [
        "### 3. Training stage"
      ]
    },
    {
      "cell_type": "markdown",
      "id": "cb1de787-9e40-47e2-bc54-44ccd1864357",
      "metadata": {
        "id": "cb1de787-9e40-47e2-bc54-44ccd1864357"
      },
      "source": [
        "#### 3.1 Model training"
      ]
    },
    {
      "cell_type": "markdown",
      "id": "2b9c7722-aed7-4b2d-a292-572921f0734b",
      "metadata": {
        "id": "2b9c7722-aed7-4b2d-a292-572921f0734b"
      },
      "source": [
        "train your model, define the relevant hyperparameters (no. epochs, batch_size), use 20p of the training data for validation"
      ]
    },
    {
      "cell_type": "code",
      "execution_count": null,
      "id": "4f858566-601d-4873-ad02-a0635bd8f526",
      "metadata": {
        "colab": {
          "base_uri": "https://localhost:8080/"
        },
        "id": "4f858566-601d-4873-ad02-a0635bd8f526",
        "outputId": "ac3023e4-0342-40f4-be05-a28b37d69c38"
      },
      "outputs": [
        {
          "output_type": "stream",
          "name": "stdout",
          "text": [
            "(60000,)\n",
            "Epoch 1/100\n",
            "\u001b[1m960/960\u001b[0m \u001b[32m━━━━━━━━━━━━━━━━━━━━\u001b[0m\u001b[37m\u001b[0m \u001b[1m8s\u001b[0m 7ms/step - accuracy: 0.7198 - loss: 1.4302 - val_accuracy: 0.8933 - val_loss: 0.4052\n",
            "Epoch 2/100\n",
            "\u001b[1m960/960\u001b[0m \u001b[32m━━━━━━━━━━━━━━━━━━━━\u001b[0m\u001b[37m\u001b[0m \u001b[1m8s\u001b[0m 5ms/step - accuracy: 0.8947 - loss: 0.3914 - val_accuracy: 0.9207 - val_loss: 0.2879\n",
            "Epoch 3/100\n",
            "\u001b[1m960/960\u001b[0m \u001b[32m━━━━━━━━━━━━━━━━━━━━\u001b[0m\u001b[37m\u001b[0m \u001b[1m5s\u001b[0m 5ms/step - accuracy: 0.9165 - loss: 0.2948 - val_accuracy: 0.9338 - val_loss: 0.2409\n",
            "Epoch 4/100\n",
            "\u001b[1m960/960\u001b[0m \u001b[32m━━━━━━━━━━━━━━━━━━━━\u001b[0m\u001b[37m\u001b[0m \u001b[1m4s\u001b[0m 4ms/step - accuracy: 0.9284 - loss: 0.2472 - val_accuracy: 0.9433 - val_loss: 0.2088\n",
            "Epoch 5/100\n",
            "\u001b[1m960/960\u001b[0m \u001b[32m━━━━━━━━━━━━━━━━━━━━\u001b[0m\u001b[37m\u001b[0m \u001b[1m5s\u001b[0m 5ms/step - accuracy: 0.9365 - loss: 0.2182 - val_accuracy: 0.9503 - val_loss: 0.1854\n",
            "Epoch 6/100\n",
            "\u001b[1m960/960\u001b[0m \u001b[32m━━━━━━━━━━━━━━━━━━━━\u001b[0m\u001b[37m\u001b[0m \u001b[1m5s\u001b[0m 5ms/step - accuracy: 0.9449 - loss: 0.1920 - val_accuracy: 0.9541 - val_loss: 0.1686\n",
            "Epoch 7/100\n",
            "\u001b[1m960/960\u001b[0m \u001b[32m━━━━━━━━━━━━━━━━━━━━\u001b[0m\u001b[37m\u001b[0m \u001b[1m4s\u001b[0m 5ms/step - accuracy: 0.9514 - loss: 0.1708 - val_accuracy: 0.9597 - val_loss: 0.1536\n",
            "Epoch 8/100\n",
            "\u001b[1m960/960\u001b[0m \u001b[32m━━━━━━━━━━━━━━━━━━━━\u001b[0m\u001b[37m\u001b[0m \u001b[1m5s\u001b[0m 5ms/step - accuracy: 0.9561 - loss: 0.1586 - val_accuracy: 0.9613 - val_loss: 0.1428\n",
            "Epoch 9/100\n",
            "\u001b[1m960/960\u001b[0m \u001b[32m━━━━━━━━━━━━━━━━━━━━\u001b[0m\u001b[37m\u001b[0m \u001b[1m5s\u001b[0m 4ms/step - accuracy: 0.9620 - loss: 0.1397 - val_accuracy: 0.9638 - val_loss: 0.1342\n",
            "Epoch 10/100\n",
            "\u001b[1m960/960\u001b[0m \u001b[32m━━━━━━━━━━━━━━━━━━━━\u001b[0m\u001b[37m\u001b[0m \u001b[1m5s\u001b[0m 5ms/step - accuracy: 0.9633 - loss: 0.1322 - val_accuracy: 0.9665 - val_loss: 0.1234\n",
            "Epoch 11/100\n",
            "\u001b[1m960/960\u001b[0m \u001b[32m━━━━━━━━━━━━━━━━━━━━\u001b[0m\u001b[37m\u001b[0m \u001b[1m4s\u001b[0m 5ms/step - accuracy: 0.9649 - loss: 0.1245 - val_accuracy: 0.9682 - val_loss: 0.1177\n",
            "Epoch 12/100\n",
            "\u001b[1m960/960\u001b[0m \u001b[32m━━━━━━━━━━━━━━━━━━━━\u001b[0m\u001b[37m\u001b[0m \u001b[1m5s\u001b[0m 4ms/step - accuracy: 0.9678 - loss: 0.1137 - val_accuracy: 0.9694 - val_loss: 0.1125\n",
            "Epoch 13/100\n",
            "\u001b[1m960/960\u001b[0m \u001b[32m━━━━━━━━━━━━━━━━━━━━\u001b[0m\u001b[37m\u001b[0m \u001b[1m5s\u001b[0m 5ms/step - accuracy: 0.9689 - loss: 0.1090 - val_accuracy: 0.9715 - val_loss: 0.1057\n",
            "Epoch 14/100\n",
            "\u001b[1m960/960\u001b[0m \u001b[32m━━━━━━━━━━━━━━━━━━━━\u001b[0m\u001b[37m\u001b[0m \u001b[1m4s\u001b[0m 5ms/step - accuracy: 0.9705 - loss: 0.1058 - val_accuracy: 0.9728 - val_loss: 0.1012\n",
            "Epoch 15/100\n",
            "\u001b[1m960/960\u001b[0m \u001b[32m━━━━━━━━━━━━━━━━━━━━\u001b[0m\u001b[37m\u001b[0m \u001b[1m5s\u001b[0m 5ms/step - accuracy: 0.9731 - loss: 0.0973 - val_accuracy: 0.9730 - val_loss: 0.0980\n",
            "Epoch 16/100\n",
            "\u001b[1m960/960\u001b[0m \u001b[32m━━━━━━━━━━━━━━━━━━━━\u001b[0m\u001b[37m\u001b[0m \u001b[1m4s\u001b[0m 5ms/step - accuracy: 0.9733 - loss: 0.0931 - val_accuracy: 0.9750 - val_loss: 0.0953\n",
            "Epoch 17/100\n",
            "\u001b[1m960/960\u001b[0m \u001b[32m━━━━━━━━━━━━━━━━━━━━\u001b[0m\u001b[37m\u001b[0m \u001b[1m4s\u001b[0m 5ms/step - accuracy: 0.9755 - loss: 0.0871 - val_accuracy: 0.9756 - val_loss: 0.0908\n",
            "Epoch 18/100\n",
            "\u001b[1m960/960\u001b[0m \u001b[32m━━━━━━━━━━━━━━━━━━━━\u001b[0m\u001b[37m\u001b[0m \u001b[1m5s\u001b[0m 5ms/step - accuracy: 0.9764 - loss: 0.0840 - val_accuracy: 0.9757 - val_loss: 0.0881\n",
            "Epoch 19/100\n",
            "\u001b[1m960/960\u001b[0m \u001b[32m━━━━━━━━━━━━━━━━━━━━\u001b[0m\u001b[37m\u001b[0m \u001b[1m5s\u001b[0m 5ms/step - accuracy: 0.9760 - loss: 0.0846 - val_accuracy: 0.9764 - val_loss: 0.0856\n",
            "Epoch 20/100\n",
            "\u001b[1m960/960\u001b[0m \u001b[32m━━━━━━━━━━━━━━━━━━━━\u001b[0m\u001b[37m\u001b[0m \u001b[1m4s\u001b[0m 5ms/step - accuracy: 0.9774 - loss: 0.0814 - val_accuracy: 0.9777 - val_loss: 0.0851\n",
            "Epoch 21/100\n",
            "\u001b[1m960/960\u001b[0m \u001b[32m━━━━━━━━━━━━━━━━━━━━\u001b[0m\u001b[37m\u001b[0m \u001b[1m5s\u001b[0m 5ms/step - accuracy: 0.9791 - loss: 0.0750 - val_accuracy: 0.9781 - val_loss: 0.0826\n",
            "Epoch 22/100\n",
            "\u001b[1m960/960\u001b[0m \u001b[32m━━━━━━━━━━━━━━━━━━━━\u001b[0m\u001b[37m\u001b[0m \u001b[1m5s\u001b[0m 4ms/step - accuracy: 0.9796 - loss: 0.0728 - val_accuracy: 0.9782 - val_loss: 0.0798\n",
            "Epoch 23/100\n",
            "\u001b[1m960/960\u001b[0m \u001b[32m━━━━━━━━━━━━━━━━━━━━\u001b[0m\u001b[37m\u001b[0m \u001b[1m5s\u001b[0m 5ms/step - accuracy: 0.9799 - loss: 0.0729 - val_accuracy: 0.9780 - val_loss: 0.0785\n",
            "Epoch 24/100\n",
            "\u001b[1m960/960\u001b[0m \u001b[32m━━━━━━━━━━━━━━━━━━━━\u001b[0m\u001b[37m\u001b[0m \u001b[1m4s\u001b[0m 4ms/step - accuracy: 0.9820 - loss: 0.0679 - val_accuracy: 0.9783 - val_loss: 0.0759\n",
            "Epoch 25/100\n",
            "\u001b[1m960/960\u001b[0m \u001b[32m━━━━━━━━━━━━━━━━━━━━\u001b[0m\u001b[37m\u001b[0m \u001b[1m6s\u001b[0m 5ms/step - accuracy: 0.9806 - loss: 0.0698 - val_accuracy: 0.9781 - val_loss: 0.0759\n",
            "Epoch 26/100\n",
            "\u001b[1m960/960\u001b[0m \u001b[32m━━━━━━━━━━━━━━━━━━━━\u001b[0m\u001b[37m\u001b[0m \u001b[1m4s\u001b[0m 5ms/step - accuracy: 0.9819 - loss: 0.0657 - val_accuracy: 0.9792 - val_loss: 0.0746\n",
            "Epoch 27/100\n",
            "\u001b[1m960/960\u001b[0m \u001b[32m━━━━━━━━━━━━━━━━━━━━\u001b[0m\u001b[37m\u001b[0m \u001b[1m5s\u001b[0m 5ms/step - accuracy: 0.9820 - loss: 0.0623 - val_accuracy: 0.9799 - val_loss: 0.0716\n",
            "Epoch 28/100\n",
            "\u001b[1m960/960\u001b[0m \u001b[32m━━━━━━━━━━━━━━━━━━━━\u001b[0m\u001b[37m\u001b[0m \u001b[1m5s\u001b[0m 5ms/step - accuracy: 0.9834 - loss: 0.0614 - val_accuracy: 0.9797 - val_loss: 0.0705\n",
            "Epoch 29/100\n",
            "\u001b[1m960/960\u001b[0m \u001b[32m━━━━━━━━━━━━━━━━━━━━\u001b[0m\u001b[37m\u001b[0m \u001b[1m4s\u001b[0m 5ms/step - accuracy: 0.9842 - loss: 0.0594 - val_accuracy: 0.9803 - val_loss: 0.0690\n",
            "Epoch 30/100\n",
            "\u001b[1m960/960\u001b[0m \u001b[32m━━━━━━━━━━━━━━━━━━━━\u001b[0m\u001b[37m\u001b[0m \u001b[1m5s\u001b[0m 5ms/step - accuracy: 0.9837 - loss: 0.0591 - val_accuracy: 0.9803 - val_loss: 0.0689\n",
            "Epoch 31/100\n",
            "\u001b[1m960/960\u001b[0m \u001b[32m━━━━━━━━━━━━━━━━━━━━\u001b[0m\u001b[37m\u001b[0m \u001b[1m5s\u001b[0m 5ms/step - accuracy: 0.9838 - loss: 0.0580 - val_accuracy: 0.9813 - val_loss: 0.0672\n",
            "Epoch 32/100\n",
            "\u001b[1m960/960\u001b[0m \u001b[32m━━━━━━━━━━━━━━━━━━━━\u001b[0m\u001b[37m\u001b[0m \u001b[1m4s\u001b[0m 5ms/step - accuracy: 0.9845 - loss: 0.0573 - val_accuracy: 0.9808 - val_loss: 0.0668\n",
            "Epoch 33/100\n",
            "\u001b[1m960/960\u001b[0m \u001b[32m━━━━━━━━━━━━━━━━━━━━\u001b[0m\u001b[37m\u001b[0m \u001b[1m5s\u001b[0m 5ms/step - accuracy: 0.9856 - loss: 0.0530 - val_accuracy: 0.9814 - val_loss: 0.0652\n",
            "Epoch 34/100\n",
            "\u001b[1m960/960\u001b[0m \u001b[32m━━━━━━━━━━━━━━━━━━━━\u001b[0m\u001b[37m\u001b[0m \u001b[1m4s\u001b[0m 5ms/step - accuracy: 0.9851 - loss: 0.0535 - val_accuracy: 0.9810 - val_loss: 0.0651\n",
            "Epoch 35/100\n",
            "\u001b[1m960/960\u001b[0m \u001b[32m━━━━━━━━━━━━━━━━━━━━\u001b[0m\u001b[37m\u001b[0m \u001b[1m5s\u001b[0m 5ms/step - accuracy: 0.9858 - loss: 0.0507 - val_accuracy: 0.9822 - val_loss: 0.0650\n",
            "Epoch 36/100\n",
            "\u001b[1m960/960\u001b[0m \u001b[32m━━━━━━━━━━━━━━━━━━━━\u001b[0m\u001b[37m\u001b[0m \u001b[1m5s\u001b[0m 5ms/step - accuracy: 0.9845 - loss: 0.0548 - val_accuracy: 0.9819 - val_loss: 0.0635\n",
            "Epoch 37/100\n",
            "\u001b[1m960/960\u001b[0m \u001b[32m━━━━━━━━━━━━━━━━━━━━\u001b[0m\u001b[37m\u001b[0m \u001b[1m5s\u001b[0m 5ms/step - accuracy: 0.9864 - loss: 0.0499 - val_accuracy: 0.9818 - val_loss: 0.0629\n",
            "Epoch 38/100\n",
            "\u001b[1m960/960\u001b[0m \u001b[32m━━━━━━━━━━━━━━━━━━━━\u001b[0m\u001b[37m\u001b[0m \u001b[1m5s\u001b[0m 5ms/step - accuracy: 0.9871 - loss: 0.0474 - val_accuracy: 0.9823 - val_loss: 0.0628\n",
            "Epoch 39/100\n",
            "\u001b[1m960/960\u001b[0m \u001b[32m━━━━━━━━━━━━━━━━━━━━\u001b[0m\u001b[37m\u001b[0m \u001b[1m4s\u001b[0m 4ms/step - accuracy: 0.9877 - loss: 0.0479 - val_accuracy: 0.9818 - val_loss: 0.0615\n",
            "Epoch 40/100\n",
            "\u001b[1m960/960\u001b[0m \u001b[32m━━━━━━━━━━━━━━━━━━━━\u001b[0m\u001b[37m\u001b[0m \u001b[1m5s\u001b[0m 6ms/step - accuracy: 0.9874 - loss: 0.0477 - val_accuracy: 0.9826 - val_loss: 0.0600\n",
            "Epoch 41/100\n",
            "\u001b[1m960/960\u001b[0m \u001b[32m━━━━━━━━━━━━━━━━━━━━\u001b[0m\u001b[37m\u001b[0m \u001b[1m4s\u001b[0m 5ms/step - accuracy: 0.9872 - loss: 0.0456 - val_accuracy: 0.9831 - val_loss: 0.0596\n",
            "Epoch 42/100\n",
            "\u001b[1m960/960\u001b[0m \u001b[32m━━━━━━━━━━━━━━━━━━━━\u001b[0m\u001b[37m\u001b[0m \u001b[1m4s\u001b[0m 4ms/step - accuracy: 0.9871 - loss: 0.0461 - val_accuracy: 0.9825 - val_loss: 0.0600\n",
            "Epoch 43/100\n",
            "\u001b[1m960/960\u001b[0m \u001b[32m━━━━━━━━━━━━━━━━━━━━\u001b[0m\u001b[37m\u001b[0m \u001b[1m5s\u001b[0m 5ms/step - accuracy: 0.9868 - loss: 0.0464 - val_accuracy: 0.9826 - val_loss: 0.0595\n",
            "Epoch 44/100\n",
            "\u001b[1m960/960\u001b[0m \u001b[32m━━━━━━━━━━━━━━━━━━━━\u001b[0m\u001b[37m\u001b[0m \u001b[1m5s\u001b[0m 5ms/step - accuracy: 0.9881 - loss: 0.0428 - val_accuracy: 0.9837 - val_loss: 0.0587\n",
            "Epoch 45/100\n",
            "\u001b[1m960/960\u001b[0m \u001b[32m━━━━━━━━━━━━━━━━━━━━\u001b[0m\u001b[37m\u001b[0m \u001b[1m5s\u001b[0m 5ms/step - accuracy: 0.9878 - loss: 0.0434 - val_accuracy: 0.9835 - val_loss: 0.0575\n",
            "Epoch 46/100\n",
            "\u001b[1m960/960\u001b[0m \u001b[32m━━━━━━━━━━━━━━━━━━━━\u001b[0m\u001b[37m\u001b[0m \u001b[1m4s\u001b[0m 5ms/step - accuracy: 0.9886 - loss: 0.0422 - val_accuracy: 0.9836 - val_loss: 0.0572\n",
            "Epoch 47/100\n",
            "\u001b[1m960/960\u001b[0m \u001b[32m━━━━━━━━━━━━━━━━━━━━\u001b[0m\u001b[37m\u001b[0m \u001b[1m4s\u001b[0m 4ms/step - accuracy: 0.9885 - loss: 0.0430 - val_accuracy: 0.9827 - val_loss: 0.0580\n",
            "Epoch 48/100\n",
            "\u001b[1m960/960\u001b[0m \u001b[32m━━━━━━━━━━━━━━━━━━━━\u001b[0m\u001b[37m\u001b[0m \u001b[1m5s\u001b[0m 5ms/step - accuracy: 0.9899 - loss: 0.0404 - val_accuracy: 0.9838 - val_loss: 0.0566\n",
            "Epoch 49/100\n",
            "\u001b[1m960/960\u001b[0m \u001b[32m━━━━━━━━━━━━━━━━━━━━\u001b[0m\u001b[37m\u001b[0m \u001b[1m4s\u001b[0m 5ms/step - accuracy: 0.9898 - loss: 0.0397 - val_accuracy: 0.9832 - val_loss: 0.0574\n",
            "Epoch 50/100\n",
            "\u001b[1m960/960\u001b[0m \u001b[32m━━━━━━━━━━━━━━━━━━━━\u001b[0m\u001b[37m\u001b[0m \u001b[1m6s\u001b[0m 5ms/step - accuracy: 0.9893 - loss: 0.0404 - val_accuracy: 0.9843 - val_loss: 0.0552\n",
            "Epoch 51/100\n",
            "\u001b[1m960/960\u001b[0m \u001b[32m━━━━━━━━━━━━━━━━━━━━\u001b[0m\u001b[37m\u001b[0m \u001b[1m10s\u001b[0m 5ms/step - accuracy: 0.9893 - loss: 0.0391 - val_accuracy: 0.9837 - val_loss: 0.0560\n",
            "Epoch 52/100\n",
            "\u001b[1m960/960\u001b[0m \u001b[32m━━━━━━━━━━━━━━━━━━━━\u001b[0m\u001b[37m\u001b[0m \u001b[1m5s\u001b[0m 5ms/step - accuracy: 0.9899 - loss: 0.0389 - val_accuracy: 0.9839 - val_loss: 0.0551\n",
            "Epoch 53/100\n",
            "\u001b[1m960/960\u001b[0m \u001b[32m━━━━━━━━━━━━━━━━━━━━\u001b[0m\u001b[37m\u001b[0m \u001b[1m4s\u001b[0m 5ms/step - accuracy: 0.9904 - loss: 0.0367 - val_accuracy: 0.9841 - val_loss: 0.0552\n",
            "Epoch 54/100\n",
            "\u001b[1m960/960\u001b[0m \u001b[32m━━━━━━━━━━━━━━━━━━━━\u001b[0m\u001b[37m\u001b[0m \u001b[1m5s\u001b[0m 5ms/step - accuracy: 0.9896 - loss: 0.0385 - val_accuracy: 0.9846 - val_loss: 0.0548\n",
            "Epoch 55/100\n",
            "\u001b[1m960/960\u001b[0m \u001b[32m━━━━━━━━━━━━━━━━━━━━\u001b[0m\u001b[37m\u001b[0m \u001b[1m5s\u001b[0m 5ms/step - accuracy: 0.9903 - loss: 0.0356 - val_accuracy: 0.9844 - val_loss: 0.0546\n",
            "Epoch 56/100\n",
            "\u001b[1m960/960\u001b[0m \u001b[32m━━━━━━━━━━━━━━━━━━━━\u001b[0m\u001b[37m\u001b[0m \u001b[1m5s\u001b[0m 5ms/step - accuracy: 0.9902 - loss: 0.0373 - val_accuracy: 0.9847 - val_loss: 0.0534\n",
            "Epoch 57/100\n",
            "\u001b[1m960/960\u001b[0m \u001b[32m━━━━━━━━━━━━━━━━━━━━\u001b[0m\u001b[37m\u001b[0m \u001b[1m5s\u001b[0m 5ms/step - accuracy: 0.9904 - loss: 0.0371 - val_accuracy: 0.9846 - val_loss: 0.0534\n",
            "Epoch 58/100\n",
            "\u001b[1m960/960\u001b[0m \u001b[32m━━━━━━━━━━━━━━━━━━━━\u001b[0m\u001b[37m\u001b[0m \u001b[1m4s\u001b[0m 5ms/step - accuracy: 0.9917 - loss: 0.0335 - val_accuracy: 0.9848 - val_loss: 0.0531\n",
            "Epoch 59/100\n",
            "\u001b[1m960/960\u001b[0m \u001b[32m━━━━━━━━━━━━━━━━━━━━\u001b[0m\u001b[37m\u001b[0m \u001b[1m5s\u001b[0m 5ms/step - accuracy: 0.9909 - loss: 0.0354 - val_accuracy: 0.9843 - val_loss: 0.0530\n",
            "Epoch 60/100\n",
            "\u001b[1m960/960\u001b[0m \u001b[32m━━━━━━━━━━━━━━━━━━━━\u001b[0m\u001b[37m\u001b[0m \u001b[1m5s\u001b[0m 4ms/step - accuracy: 0.9912 - loss: 0.0345 - val_accuracy: 0.9843 - val_loss: 0.0533\n",
            "Epoch 61/100\n",
            "\u001b[1m960/960\u001b[0m \u001b[32m━━━━━━━━━━━━━━━━━━━━\u001b[0m\u001b[37m\u001b[0m \u001b[1m4s\u001b[0m 5ms/step - accuracy: 0.9921 - loss: 0.0321 - val_accuracy: 0.9846 - val_loss: 0.0531\n",
            "Epoch 62/100\n",
            "\u001b[1m960/960\u001b[0m \u001b[32m━━━━━━━━━━━━━━━━━━━━\u001b[0m\u001b[37m\u001b[0m \u001b[1m5s\u001b[0m 5ms/step - accuracy: 0.9914 - loss: 0.0327 - val_accuracy: 0.9851 - val_loss: 0.0518\n",
            "Epoch 63/100\n",
            "\u001b[1m960/960\u001b[0m \u001b[32m━━━━━━━━━━━━━━━━━━━━\u001b[0m\u001b[37m\u001b[0m \u001b[1m5s\u001b[0m 5ms/step - accuracy: 0.9920 - loss: 0.0325 - val_accuracy: 0.9853 - val_loss: 0.0524\n",
            "Epoch 64/100\n",
            "\u001b[1m960/960\u001b[0m \u001b[32m━━━━━━━━━━━━━━━━━━━━\u001b[0m\u001b[37m\u001b[0m \u001b[1m5s\u001b[0m 6ms/step - accuracy: 0.9916 - loss: 0.0317 - val_accuracy: 0.9851 - val_loss: 0.0523\n",
            "Epoch 65/100\n",
            "\u001b[1m960/960\u001b[0m \u001b[32m━━━━━━━━━━━━━━━━━━━━\u001b[0m\u001b[37m\u001b[0m \u001b[1m4s\u001b[0m 5ms/step - accuracy: 0.9920 - loss: 0.0317 - val_accuracy: 0.9848 - val_loss: 0.0518\n",
            "Epoch 66/100\n",
            "\u001b[1m960/960\u001b[0m \u001b[32m━━━━━━━━━━━━━━━━━━━━\u001b[0m\u001b[37m\u001b[0m \u001b[1m4s\u001b[0m 5ms/step - accuracy: 0.9926 - loss: 0.0298 - val_accuracy: 0.9854 - val_loss: 0.0505\n",
            "Epoch 67/100\n",
            "\u001b[1m960/960\u001b[0m \u001b[32m━━━━━━━━━━━━━━━━━━━━\u001b[0m\u001b[37m\u001b[0m \u001b[1m5s\u001b[0m 5ms/step - accuracy: 0.9925 - loss: 0.0295 - val_accuracy: 0.9852 - val_loss: 0.0508\n",
            "Epoch 68/100\n",
            "\u001b[1m960/960\u001b[0m \u001b[32m━━━━━━━━━━━━━━━━━━━━\u001b[0m\u001b[37m\u001b[0m \u001b[1m4s\u001b[0m 5ms/step - accuracy: 0.9920 - loss: 0.0310 - val_accuracy: 0.9848 - val_loss: 0.0517\n",
            "Epoch 69/100\n",
            "\u001b[1m960/960\u001b[0m \u001b[32m━━━━━━━━━━━━━━━━━━━━\u001b[0m\u001b[37m\u001b[0m \u001b[1m6s\u001b[0m 6ms/step - accuracy: 0.9925 - loss: 0.0288 - val_accuracy: 0.9853 - val_loss: 0.0503\n",
            "Epoch 70/100\n",
            "\u001b[1m960/960\u001b[0m \u001b[32m━━━━━━━━━━━━━━━━━━━━\u001b[0m\u001b[37m\u001b[0m \u001b[1m9s\u001b[0m 5ms/step - accuracy: 0.9927 - loss: 0.0290 - val_accuracy: 0.9856 - val_loss: 0.0502\n",
            "Epoch 71/100\n",
            "\u001b[1m960/960\u001b[0m \u001b[32m━━━━━━━━━━━━━━━━━━━━\u001b[0m\u001b[37m\u001b[0m \u001b[1m5s\u001b[0m 5ms/step - accuracy: 0.9935 - loss: 0.0279 - val_accuracy: 0.9859 - val_loss: 0.0503\n",
            "Epoch 72/100\n",
            "\u001b[1m960/960\u001b[0m \u001b[32m━━━━━━━━━━━━━━━━━━━━\u001b[0m\u001b[37m\u001b[0m \u001b[1m5s\u001b[0m 4ms/step - accuracy: 0.9933 - loss: 0.0272 - val_accuracy: 0.9852 - val_loss: 0.0507\n",
            "Epoch 73/100\n",
            "\u001b[1m960/960\u001b[0m \u001b[32m━━━━━━━━━━━━━━━━━━━━\u001b[0m\u001b[37m\u001b[0m \u001b[1m6s\u001b[0m 5ms/step - accuracy: 0.9930 - loss: 0.0291 - val_accuracy: 0.9854 - val_loss: 0.0498\n",
            "Epoch 74/100\n",
            "\u001b[1m960/960\u001b[0m \u001b[32m━━━━━━━━━━━━━━━━━━━━\u001b[0m\u001b[37m\u001b[0m \u001b[1m4s\u001b[0m 5ms/step - accuracy: 0.9934 - loss: 0.0267 - val_accuracy: 0.9854 - val_loss: 0.0510\n",
            "Epoch 75/100\n",
            "\u001b[1m960/960\u001b[0m \u001b[32m━━━━━━━━━━━━━━━━━━━━\u001b[0m\u001b[37m\u001b[0m \u001b[1m4s\u001b[0m 5ms/step - accuracy: 0.9933 - loss: 0.0263 - val_accuracy: 0.9857 - val_loss: 0.0498\n",
            "Epoch 76/100\n",
            "\u001b[1m960/960\u001b[0m \u001b[32m━━━━━━━━━━━━━━━━━━━━\u001b[0m\u001b[37m\u001b[0m \u001b[1m5s\u001b[0m 5ms/step - accuracy: 0.9933 - loss: 0.0274 - val_accuracy: 0.9861 - val_loss: 0.0487\n",
            "Epoch 77/100\n",
            "\u001b[1m960/960\u001b[0m \u001b[32m━━━━━━━━━━━━━━━━━━━━\u001b[0m\u001b[37m\u001b[0m \u001b[1m5s\u001b[0m 5ms/step - accuracy: 0.9937 - loss: 0.0267 - val_accuracy: 0.9858 - val_loss: 0.0493\n",
            "Epoch 78/100\n",
            "\u001b[1m960/960\u001b[0m \u001b[32m━━━━━━━━━━━━━━━━━━━━\u001b[0m\u001b[37m\u001b[0m \u001b[1m5s\u001b[0m 6ms/step - accuracy: 0.9929 - loss: 0.0263 - val_accuracy: 0.9855 - val_loss: 0.0496\n",
            "Epoch 79/100\n",
            "\u001b[1m960/960\u001b[0m \u001b[32m━━━━━━━━━━━━━━━━━━━━\u001b[0m\u001b[37m\u001b[0m \u001b[1m4s\u001b[0m 5ms/step - accuracy: 0.9933 - loss: 0.0269 - val_accuracy: 0.9859 - val_loss: 0.0490\n",
            "Epoch 80/100\n",
            "\u001b[1m960/960\u001b[0m \u001b[32m━━━━━━━━━━━━━━━━━━━━\u001b[0m\u001b[37m\u001b[0m \u001b[1m4s\u001b[0m 4ms/step - accuracy: 0.9927 - loss: 0.0278 - val_accuracy: 0.9853 - val_loss: 0.0491\n",
            "Epoch 81/100\n",
            "\u001b[1m960/960\u001b[0m \u001b[32m━━━━━━━━━━━━━━━━━━━━\u001b[0m\u001b[37m\u001b[0m \u001b[1m5s\u001b[0m 5ms/step - accuracy: 0.9938 - loss: 0.0260 - val_accuracy: 0.9858 - val_loss: 0.0486\n",
            "Epoch 82/100\n",
            "\u001b[1m960/960\u001b[0m \u001b[32m━━━━━━━━━━━━━━━━━━━━\u001b[0m\u001b[37m\u001b[0m \u001b[1m5s\u001b[0m 5ms/step - accuracy: 0.9940 - loss: 0.0242 - val_accuracy: 0.9861 - val_loss: 0.0489\n",
            "Epoch 83/100\n",
            "\u001b[1m960/960\u001b[0m \u001b[32m━━━━━━━━━━━━━━━━━━━━\u001b[0m\u001b[37m\u001b[0m \u001b[1m6s\u001b[0m 6ms/step - accuracy: 0.9946 - loss: 0.0235 - val_accuracy: 0.9856 - val_loss: 0.0490\n",
            "Epoch 84/100\n",
            "\u001b[1m960/960\u001b[0m \u001b[32m━━━━━━━━━━━━━━━━━━━━\u001b[0m\u001b[37m\u001b[0m \u001b[1m9s\u001b[0m 5ms/step - accuracy: 0.9943 - loss: 0.0241 - val_accuracy: 0.9858 - val_loss: 0.0482\n",
            "Epoch 85/100\n",
            "\u001b[1m960/960\u001b[0m \u001b[32m━━━━━━━━━━━━━━━━━━━━\u001b[0m\u001b[37m\u001b[0m \u001b[1m5s\u001b[0m 5ms/step - accuracy: 0.9948 - loss: 0.0236 - val_accuracy: 0.9855 - val_loss: 0.0494\n",
            "Epoch 86/100\n",
            "\u001b[1m960/960\u001b[0m \u001b[32m━━━━━━━━━━━━━━━━━━━━\u001b[0m\u001b[37m\u001b[0m \u001b[1m5s\u001b[0m 5ms/step - accuracy: 0.9944 - loss: 0.0236 - val_accuracy: 0.9857 - val_loss: 0.0482\n",
            "Epoch 87/100\n",
            "\u001b[1m960/960\u001b[0m \u001b[32m━━━━━━━━━━━━━━━━━━━━\u001b[0m\u001b[37m\u001b[0m \u001b[1m5s\u001b[0m 5ms/step - accuracy: 0.9941 - loss: 0.0241 - val_accuracy: 0.9861 - val_loss: 0.0472\n",
            "Epoch 88/100\n",
            "\u001b[1m960/960\u001b[0m \u001b[32m━━━━━━━━━━━━━━━━━━━━\u001b[0m\u001b[37m\u001b[0m \u001b[1m5s\u001b[0m 5ms/step - accuracy: 0.9948 - loss: 0.0229 - val_accuracy: 0.9863 - val_loss: 0.0474\n",
            "Epoch 89/100\n",
            "\u001b[1m960/960\u001b[0m \u001b[32m━━━━━━━━━━━━━━━━━━━━\u001b[0m\u001b[37m\u001b[0m \u001b[1m5s\u001b[0m 5ms/step - accuracy: 0.9948 - loss: 0.0222 - val_accuracy: 0.9864 - val_loss: 0.0469\n",
            "Epoch 90/100\n",
            "\u001b[1m960/960\u001b[0m \u001b[32m━━━━━━━━━━━━━━━━━━━━\u001b[0m\u001b[37m\u001b[0m \u001b[1m5s\u001b[0m 5ms/step - accuracy: 0.9946 - loss: 0.0225 - val_accuracy: 0.9850 - val_loss: 0.0485\n",
            "Epoch 91/100\n",
            "\u001b[1m960/960\u001b[0m \u001b[32m━━━━━━━━━━━━━━━━━━━━\u001b[0m\u001b[37m\u001b[0m \u001b[1m5s\u001b[0m 5ms/step - accuracy: 0.9957 - loss: 0.0210 - val_accuracy: 0.9859 - val_loss: 0.0477\n",
            "Epoch 92/100\n",
            "\u001b[1m960/960\u001b[0m \u001b[32m━━━━━━━━━━━━━━━━━━━━\u001b[0m\u001b[37m\u001b[0m \u001b[1m6s\u001b[0m 5ms/step - accuracy: 0.9949 - loss: 0.0224 - val_accuracy: 0.9857 - val_loss: 0.0476\n",
            "Epoch 93/100\n",
            "\u001b[1m960/960\u001b[0m \u001b[32m━━━━━━━━━━━━━━━━━━━━\u001b[0m\u001b[37m\u001b[0m \u001b[1m5s\u001b[0m 5ms/step - accuracy: 0.9955 - loss: 0.0213 - val_accuracy: 0.9859 - val_loss: 0.0475\n",
            "Epoch 94/100\n",
            "\u001b[1m960/960\u001b[0m \u001b[32m━━━━━━━━━━━━━━━━━━━━\u001b[0m\u001b[37m\u001b[0m \u001b[1m5s\u001b[0m 6ms/step - accuracy: 0.9948 - loss: 0.0222 - val_accuracy: 0.9859 - val_loss: 0.0467\n",
            "Epoch 95/100\n",
            "\u001b[1m960/960\u001b[0m \u001b[32m━━━━━━━━━━━━━━━━━━━━\u001b[0m\u001b[37m\u001b[0m \u001b[1m9s\u001b[0m 5ms/step - accuracy: 0.9958 - loss: 0.0195 - val_accuracy: 0.9863 - val_loss: 0.0477\n",
            "Epoch 96/100\n",
            "\u001b[1m960/960\u001b[0m \u001b[32m━━━━━━━━━━━━━━━━━━━━\u001b[0m\u001b[37m\u001b[0m \u001b[1m5s\u001b[0m 5ms/step - accuracy: 0.9952 - loss: 0.0206 - val_accuracy: 0.9862 - val_loss: 0.0474\n",
            "Epoch 97/100\n",
            "\u001b[1m960/960\u001b[0m \u001b[32m━━━━━━━━━━━━━━━━━━━━\u001b[0m\u001b[37m\u001b[0m \u001b[1m4s\u001b[0m 5ms/step - accuracy: 0.9943 - loss: 0.0215 - val_accuracy: 0.9859 - val_loss: 0.0478\n",
            "Epoch 98/100\n",
            "\u001b[1m960/960\u001b[0m \u001b[32m━━━━━━━━━━━━━━━━━━━━\u001b[0m\u001b[37m\u001b[0m \u001b[1m5s\u001b[0m 5ms/step - accuracy: 0.9951 - loss: 0.0210 - val_accuracy: 0.9858 - val_loss: 0.0473\n",
            "Epoch 99/100\n",
            "\u001b[1m960/960\u001b[0m \u001b[32m━━━━━━━━━━━━━━━━━━━━\u001b[0m\u001b[37m\u001b[0m \u001b[1m4s\u001b[0m 5ms/step - accuracy: 0.9956 - loss: 0.0192 - val_accuracy: 0.9857 - val_loss: 0.0484\n",
            "Epoch 100/100\n",
            "\u001b[1m960/960\u001b[0m \u001b[32m━━━━━━━━━━━━━━━━━━━━\u001b[0m\u001b[37m\u001b[0m \u001b[1m4s\u001b[0m 5ms/step - accuracy: 0.9953 - loss: 0.0216 - val_accuracy: 0.9862 - val_loss: 0.0473\n"
          ]
        }
      ],
      "source": [
        "###################################\n",
        "# Write your own code here #\n",
        "print(y_train.shape)\n",
        "history = model.fit(X_train, y_train_enc, epochs=100, batch_size=50, validation_split = 0.2)\n",
        "\n",
        "###################################"
      ]
    },
    {
      "cell_type": "markdown",
      "id": "45651f2d-5cc4-4896-8edc-f58b50fed605",
      "metadata": {
        "id": "45651f2d-5cc4-4896-8edc-f58b50fed605"
      },
      "source": [
        "#### 3.1 Model Evaluation on validation data"
      ]
    },
    {
      "cell_type": "markdown",
      "id": "eb4ea2f2-fcc8-4308-82f6-3dbd5857e989",
      "metadata": {
        "id": "eb4ea2f2-fcc8-4308-82f6-3dbd5857e989"
      },
      "source": [
        "Plot the development of the training and validation loss, and training and validation metrics."
      ]
    },
    {
      "cell_type": "code",
      "execution_count": null,
      "id": "841d1e30-e448-4b53-b3fc-9b97863391bb",
      "metadata": {
        "colab": {
          "base_uri": "https://localhost:8080/"
        },
        "id": "841d1e30-e448-4b53-b3fc-9b97863391bb",
        "outputId": "d10311fa-c009-4356-a290-fa401a31b152"
      },
      "outputs": [
        {
          "output_type": "stream",
          "name": "stdout",
          "text": [
            "Test loss: 0.03893381357192993\n",
            "Test accuracy: 98.65000247955322 %\n"
          ]
        }
      ],
      "source": [
        "###################################\n",
        "# Write your own code here #\n",
        "score = model.evaluate(X_test, y_test_enc, verbose=0)\n",
        "print('Test loss:', score[0])\n",
        "print(f'Test accuracy: {score[1]*100} %')\n",
        "\n",
        "\n",
        "\n",
        "###################################"
      ]
    },
    {
      "cell_type": "markdown",
      "id": "22cd86fb-6b4c-4299-a077-fec0ab62464c",
      "metadata": {
        "id": "22cd86fb-6b4c-4299-a077-fec0ab62464c"
      },
      "source": [
        "### 4. Model evaluation"
      ]
    },
    {
      "cell_type": "markdown",
      "id": "9d93b7ad-3416-451d-8762-968f4cf1dd13",
      "metadata": {
        "id": "9d93b7ad-3416-451d-8762-968f4cf1dd13"
      },
      "source": [
        "Evaluate the model on the testing dataset using the relevant metrics. Use the confusion metrics as the one of the metrics."
      ]
    },
    {
      "cell_type": "code",
      "execution_count": null,
      "id": "8134b757-aca1-4a0d-a0d2-3a3d0daa8d38",
      "metadata": {
        "colab": {
          "base_uri": "https://localhost:8080/",
          "height": 1000
        },
        "id": "8134b757-aca1-4a0d-a0d2-3a3d0daa8d38",
        "outputId": "542f26bb-2139-499e-f419-e5e1fd3f9d1d"
      },
      "outputs": [
        {
          "output_type": "stream",
          "name": "stdout",
          "text": [
            "\u001b[1m313/313\u001b[0m \u001b[32m━━━━━━━━━━━━━━━━━━━━\u001b[0m\u001b[37m\u001b[0m \u001b[1m1s\u001b[0m 3ms/step\n",
            "[[ 977    0    0    0    0    1    0    2    0    0]\n",
            " [   0 1127    2    2    0    0    3    1    0    0]\n",
            " [   4    2 1013    3    1    0    0    7    1    1]\n",
            " [   1    0    4  999    0    3    0    1    1    1]\n",
            " [   0    0    0    0  972    0    2    1    1    6]\n",
            " [   2    0    0    2    0  883    4    1    0    0]\n",
            " [   7    2    0    0    2    3  943    0    1    0]\n",
            " [   1    1    7    2    0    0    0 1014    1    2]\n",
            " [   5    0    3    2    2    1    0    3  952    6]\n",
            " [   1    1    0    2   10    1    0    9    0  985]]\n"
          ]
        },
        {
          "output_type": "execute_result",
          "data": {
            "text/plain": [
              "<sklearn.metrics._plot.confusion_matrix.ConfusionMatrixDisplay at 0x7d73d02791d0>"
            ]
          },
          "metadata": {},
          "execution_count": 20
        },
        {
          "output_type": "display_data",
          "data": {
            "text/plain": [
              "<Figure size 640x480 with 1 Axes>"
            ],
            "image/png": "[encoded data removed]"
          },
          "metadata": {}
        },
        {
          "output_type": "display_data",
          "data": {
            "text/plain": [
              "<Figure size 640x480 with 1 Axes>"
            ],
            "image/png": "[encoded data removed]"
          },
          "metadata": {}
        },
        {
          "output_type": "display_data",
          "data": {
            "text/plain": [
              "<Figure size 640x480 with 2 Axes>"
            ],
            "image/png": "[encoded data removed]"
          },
          "metadata": {}
        }
      ],
      "source": [
        "###################################\n",
        "# Write your own code here #\n",
        "plt.figure()\n",
        "plt.plot(history.history['loss'])\n",
        "plt.plot(history.history['val_loss'])\n",
        "\n",
        "plt.figure()\n",
        "plt.plot(history.history['accuracy'])\n",
        "plt.plot(history.history['val_accuracy'])\n",
        "\n",
        "#Confusion matrix\n",
        "\n",
        "y_pred = model.predict(X_test)\n",
        "\n",
        "y_pred_classes = np.argmax(y_pred, axis = 1)\n",
        "y_true_classes = np.argmax(y_test_enc, axis = 1)\n",
        "\n",
        "print(confusion_matrix(y_true_classes,y_pred_classes))\n",
        "ConfusionMatrixDisplay.from_predictions(y_true_classes,y_pred_classes)\n",
        "\n",
        "###################################"
      ]
    },
    {
      "cell_type": "markdown",
      "id": "44a3f72d-1d76-4d98-9f03-1f8293ed6ad6",
      "metadata": {
        "id": "44a3f72d-1d76-4d98-9f03-1f8293ed6ad6"
      },
      "source": [
        "### 5. Hyperparameter tunning and regularization techniques"
      ]
    },
    {
      "cell_type": "markdown",
      "id": "e6140057-ce25-4e97-ae7b-81a47a30bebc",
      "metadata": {
        "id": "e6140057-ce25-4e97-ae7b-81a47a30bebc"
      },
      "source": [
        "When your code is ready and fully functional, try several changes in the hyperparameters and see how they influence the testing metrics. Try changes in the network structure. You can also try adding regularization techniques such as L1, L2, and Dropout. Based on the development of training and validation loss, try to identify overfitting and avoid it"
      ]
    },
    {
      "cell_type": "code",
      "execution_count": null,
      "id": "f1f4b10b-7487-45f4-8702-267715e4041c",
      "metadata": {
        "id": "f1f4b10b-7487-45f4-8702-267715e4041c"
      },
      "outputs": [],
      "source": []
    }
  ],
  "metadata": {
    "kernelspec": {
      "display_name": "Python 3",
      "name": "python3"
    },
    "language_info": {
      "codemirror_mode": {
        "name": "ipython",
        "version": 3
      },
      "file_extension": ".py",
      "mimetype": "text/x-python",
      "name": "python",
      "nbconvert_exporter": "python",
      "pygments_lexer": "ipython3",
      "version": "3.10.12"
    },
    "colab": {
      "provenance": [],
      "gpuType": "T4",
      "include_colab_link": true
    },
    "accelerator": "GPU"
  },
  "nbformat": 4,
  "nbformat_minor": 5
}